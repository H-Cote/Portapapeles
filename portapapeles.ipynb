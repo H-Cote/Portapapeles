{
 "cells": [
  {
   "cell_type": "code",
   "execution_count": 1,
   "metadata": {},
   "outputs": [],
   "source": [
    "import random\n",
    "import pandas as pd\n",
    "import matplotlib.pyplot as plt\n",
    "import numpy as np\n",
    "import math\n",
    "import matplotlib\n",
    "import collections\n",
    "import time\n"
   ]
  },
  {
   "cell_type": "markdown",
   "metadata": {},
   "source": [
    "### Funciones"
   ]
  },
  {
   "cell_type": "code",
   "execution_count": 2,
   "metadata": {},
   "outputs": [],
   "source": [
    "'''Suma los elementos de una lista cada n=paso elementos'''\n",
    "\n",
    "def suma_paso(lista,paso):\n",
    "\n",
    "    arr=np.add.reduceat(serie1, np.arange(0, len(serie1), paso))\n",
    "    serie2 = arr.tolist()\n",
    "    \n",
    "    return serie2"
   ]
  },
  {
   "cell_type": "code",
   "execution_count": 3,
   "metadata": {},
   "outputs": [
    {
     "data": {
      "text/plain": [
       "[6, 15, 24, 33]"
      ]
     },
     "execution_count": 3,
     "metadata": {},
     "output_type": "execute_result"
    }
   ],
   "source": [
    "serie1=[1,2,3,4,5,6,7,8,9,10,11,12]\n",
    "\n",
    "suma_paso(serie1,3)"
   ]
  },
  {
   "cell_type": "code",
   "execution_count": 4,
   "metadata": {},
   "outputs": [],
   "source": [
    "'''Calcula el promedio cada n=paso elementos en una lista'''\n",
    "\n",
    "def promedios_paso(lista,paso):\n",
    "     \n",
    "    promedios=[]\n",
    "    for i, _ in enumerate(lista[::paso]):\n",
    "        sub_list = lista[i*paso:] if (i+1)*paso > len(lista) else lista[i*paso:(i+1)*paso]  \n",
    "        promedio=sum(sub_list)/float(len(sub_list))\n",
    "        promedios.append(promedio)\n",
    "    return promedios\n",
    "\n",
    "#https://stackoverflow.com/questions/39814034/how-do-i-get-the-average-of-every-10-numbers-in-list-in-python\n"
   ]
  },
  {
   "cell_type": "code",
   "execution_count": 5,
   "metadata": {},
   "outputs": [
    {
     "data": {
      "text/plain": [
       "[2.0, 5.0, 8.0, 11.0]"
      ]
     },
     "execution_count": 5,
     "metadata": {},
     "output_type": "execute_result"
    }
   ],
   "source": [
    "serie2=[1,2,3,4,5,6,7,8,9,10,11,12]\n",
    "\n",
    "promedios_paso(serie2,3)"
   ]
  },
  {
   "cell_type": "code",
   "execution_count": 6,
   "metadata": {},
   "outputs": [],
   "source": [
    "'''Calcula, uno a uno, el valor absoluto de la diferencia de los elementos de dos listas'''\n",
    "\n",
    "def dif_abs(lista1,lista2):\n",
    "\n",
    "\n",
    "    diff=[x1 - x2 for (x1, x2) in zip(lista1, lista2)] #Calcula la diferencia de las listas\n",
    "    absolutos = list(map(abs, diff )) #Calcula el valor absoluto de cada elemento\n",
    "    \n",
    "    return absolutos"
   ]
  },
  {
   "cell_type": "code",
   "execution_count": 7,
   "metadata": {},
   "outputs": [
    {
     "data": {
      "text/plain": [
       "[8, 6, 4, 2, 0, 2]"
      ]
     },
     "execution_count": 7,
     "metadata": {},
     "output_type": "execute_result"
    }
   ],
   "source": [
    "serie3=[1,2,3,4,5,6]\n",
    "serie4=[9,8,7,6,5,4]\n",
    "\n",
    "dif_abs(serie3,serie4)"
   ]
  },
  {
   "cell_type": "markdown",
   "metadata": {},
   "source": [
    "---"
   ]
  },
  {
   "cell_type": "markdown",
   "metadata": {},
   "source": [
    "### Otros"
   ]
  },
  {
   "cell_type": "code",
   "execution_count": 8,
   "metadata": {},
   "outputs": [
    {
     "data": {
      "text/plain": [
       "Counter({2: 8, 1: 6, 3: 7})"
      ]
     },
     "execution_count": 8,
     "metadata": {},
     "output_type": "execute_result"
    }
   ],
   "source": [
    "\"Cuenta las fecuencias de los elementos de una lista\"\n",
    "\n",
    "serie5=[2,1,2,3,1,1,2,2,2,3,2,1,3,3,2,3,1,1,3,3,2]\n",
    "\n",
    "collections.Counter(serie5)"
   ]
  },
  {
   "cell_type": "code",
   "execution_count": 9,
   "metadata": {},
   "outputs": [
    {
     "name": "stdout",
     "output_type": "stream",
     "text": [
      "CPU times: user 3 µs, sys: 2 µs, total: 5 µs\n",
      "Wall time: 7.87 µs\n"
     ]
    }
   ],
   "source": [
    "%%time\n",
    "'''Tiempo de ejecución de un proceso'''\n",
    "\n",
    "a=[]\n",
    "for i in range(10):\n",
    "    a.append(i)"
   ]
  },
  {
   "cell_type": "code",
   "execution_count": 10,
   "metadata": {},
   "outputs": [
    {
     "data": {
      "text/html": [
       "<div>\n",
       "<style scoped>\n",
       "    .dataframe tbody tr th:only-of-type {\n",
       "        vertical-align: middle;\n",
       "    }\n",
       "\n",
       "    .dataframe tbody tr th {\n",
       "        vertical-align: top;\n",
       "    }\n",
       "\n",
       "    .dataframe thead th {\n",
       "        text-align: right;\n",
       "    }\n",
       "</style>\n",
       "<table border=\"1\" class=\"dataframe\">\n",
       "  <thead>\n",
       "    <tr style=\"text-align: right;\">\n",
       "      <th></th>\n",
       "      <th>Datos</th>\n",
       "      <th>Valor</th>\n",
       "    </tr>\n",
       "  </thead>\n",
       "  <tbody>\n",
       "    <tr>\n",
       "      <th>0</th>\n",
       "      <td>A</td>\n",
       "      <td>20</td>\n",
       "    </tr>\n",
       "    <tr>\n",
       "      <th>1</th>\n",
       "      <td>B</td>\n",
       "      <td>56</td>\n",
       "    </tr>\n",
       "    <tr>\n",
       "      <th>2</th>\n",
       "      <td>C</td>\n",
       "      <td>48</td>\n",
       "    </tr>\n",
       "  </tbody>\n",
       "</table>\n",
       "</div>"
      ],
      "text/plain": [
       "  Datos  Valor\n",
       "0     A     20\n",
       "1     B     56\n",
       "2     C     48"
      ]
     },
     "execution_count": 10,
     "metadata": {},
     "output_type": "execute_result"
    }
   ],
   "source": [
    "'''Dataframe a partir de dos listas'''\n",
    "\n",
    "data={\"Datos\":[\"A\",\"B\",\"C\"], \"Valor\":[20,56,48]}\n",
    "estadisticos= pd.DataFrame(data) \n",
    "#estadisticos.to_csv(\"/home/solaris/Documentos/LFC2/Programas/Programa 3/Datos/estadisticos.csv\")\n",
    "estadisticos"
   ]
  },
  {
   "cell_type": "code",
   "execution_count": 11,
   "metadata": {},
   "outputs": [
    {
     "data": {
      "image/png": "[encoded data removed]",
      "text/plain": [
       "<Figure size 432x288 with 1 Axes>"
      ]
     },
     "metadata": {},
     "output_type": "display_data"
    }
   ],
   "source": [
    "'''Gráfica a partir de listas'''\n",
    "\n",
    "serie5=[1,2,3,4,5,6]\n",
    "serie6=[9,8,7,6,5,4]\n",
    "\n",
    "\n",
    "plt.plot(serie5,\"ro\",label=\"Datos 1\", linestyle='-')\n",
    "plt.plot(serie6,\"bo\",label=\"Datos 2\")\n",
    "\n",
    "#plt.xlim(0, maximo+3)\n",
    "\n",
    "plt.xlabel(\"Eje X\")\n",
    "plt.ylabel(\"Eje Y = $P_n$\")\n",
    "\n",
    "plt.legend(loc=0)\n",
    "#plt.text(5.3, 0.2, \"Ventana de tiempo =%i \"%v)\n",
    "\n",
    "plt.grid()\n",
    "#plt.savefig('g3.png')\n",
    "plt.show()"
   ]
  }
 ],
 "metadata": {
  "kernelspec": {
   "display_name": "Python 3",
   "language": "python",
   "name": "python3"
  },
  "language_info": {
   "codemirror_mode": {
    "name": "ipython",
    "version": 3
   },
   "file_extension": ".py",
   "mimetype": "text/x-python",
   "name": "python",
   "nbconvert_exporter": "python",
   "pygments_lexer": "ipython3",
   "version": "3.6.9"
  }
 },
 "nbformat": 4,
 "nbformat_minor": 4
}
